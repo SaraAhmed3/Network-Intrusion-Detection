{
  "nbformat": 4,
  "nbformat_minor": 0,
  "metadata": {
    "colab": {
      "name": "SAE_DT.ipynb",
      "provenance": [],
      "collapsed_sections": []
    },
    "kernelspec": {
      "name": "python3",
      "display_name": "Python 3"
    },
    "language_info": {
      "name": "python"
    }
  },
  "cells": [
    {
      "cell_type": "markdown",
      "metadata": {
        "id": "1JHtkTL0tgL2"
      },
      "source": [
        "**Name:** Sara Abdelghafar<br>\n",
        "**ID:** 300266850"
      ]
    },
    {
      "cell_type": "markdown",
      "metadata": {
        "id": "-wIPp5c5t-gt"
      },
      "source": [
        "**Note:** Scores slightly fluctuate due to the randomness of the neural network outputs."
      ]
    },
    {
      "cell_type": "markdown",
      "metadata": {
        "id": "rXdkbF788huo"
      },
      "source": [
        "## Data Preprocessing"
      ]
    },
    {
      "cell_type": "code",
      "metadata": {
        "id": "xZh8SpL7MyjT"
      },
      "source": [
        "import pandas as pd\n",
        "import numpy as np\n",
        "from sklearn.preprocessing import OneHotEncoder, LabelEncoder\n",
        "from sklearn.neighbors import LocalOutlierFactor\n",
        "import seaborn as sns\n",
        "import matplotlib.pyplot as plt\n",
        "from sklearn.model_selection import train_test_split\n",
        "from sklearn.metrics import f1_score, accuracy_score, classification_report, confusion_matrix\n",
        "import matplotlib.pyplot as plt\n",
        "import seaborn as sns\n",
        "from sklearn.preprocessing import MinMaxScaler\n",
        "from sklearn.covariance import EllipticEnvelope"
      ],
      "execution_count": null,
      "outputs": []
    },
    {
      "cell_type": "code",
      "metadata": {
        "id": "vKFXzUebM9Un"
      },
      "source": [
        "data = pd.read_csv('traindata.csv')\n",
        "test = pd.read_csv('testdata.csv')"
      ],
      "execution_count": null,
      "outputs": []
    },
    {
      "cell_type": "markdown",
      "metadata": {
        "id": "q28_7ZbpEF7Y"
      },
      "source": [
        "Check if any of the features have a constant value and drop them from list of features."
      ]
    },
    {
      "cell_type": "code",
      "metadata": {
        "id": "6lOB22reM_tM",
        "colab": {
          "base_uri": "https://localhost:8080/"
        },
        "outputId": "703c144c-1374-4dac-f614-9a72ba5589f6"
      },
      "source": [
        "for i in data.columns:\n",
        "  if(len(np.unique(data[i])) == 1):\n",
        "    print(i)"
      ],
      "execution_count": null,
      "outputs": [
        {
          "output_type": "stream",
          "name": "stdout",
          "text": [
            "num_outbound_cmds\n",
            "is_host_login\n"
          ]
        }
      ]
    },
    {
      "cell_type": "code",
      "metadata": {
        "id": "AKvYa_K0NCcm",
        "colab": {
          "base_uri": "https://localhost:8080/"
        },
        "outputId": "c371f52a-f98d-4fc1-8e28-d4cb1e2cf2ea"
      },
      "source": [
        "X_train = data.drop(labels = ['ID', 'num_outbound_cmds', 'is_host_login', 'Class'], axis = 1)\n",
        "y_train = data['Class']\n",
        "X_test = test.drop(labels = ['ID', 'num_outbound_cmds', 'is_host_login'], axis = 1)\n",
        "print(X_train.shape)\n",
        "print(X_test.shape)"
      ],
      "execution_count": null,
      "outputs": [
        {
          "output_type": "stream",
          "name": "stdout",
          "text": [
            "(23002, 40)\n",
            "(22501, 40)\n"
          ]
        }
      ]
    },
    {
      "cell_type": "markdown",
      "metadata": {
        "id": "rY3NO8qEEdmE"
      },
      "source": [
        "Hot encoding categorical features."
      ]
    },
    {
      "cell_type": "code",
      "metadata": {
        "id": "7GvOd9XCNFf0"
      },
      "source": [
        "joint_data = pd.concat([X_train, X_test])"
      ],
      "execution_count": null,
      "outputs": []
    },
    {
      "cell_type": "code",
      "metadata": {
        "id": "b2cex_FEbSo-"
      },
      "source": [
        "joint_data = pd.get_dummies(data= joint_data, columns = ['protocol_type', 'service', 'flag'])"
      ],
      "execution_count": null,
      "outputs": []
    },
    {
      "cell_type": "code",
      "metadata": {
        "id": "_DI9l7QlcMP9",
        "colab": {
          "base_uri": "https://localhost:8080/"
        },
        "outputId": "27520776-2640-4400-ed67-2273138ccb34"
      },
      "source": [
        "X_train = joint_data.iloc[:X_train.shape[0],]\n",
        "print(X_train.shape)\n",
        "X_test = joint_data.iloc[X_train.shape[0]:,]\n",
        "print(X_test.shape)"
      ],
      "execution_count": null,
      "outputs": [
        {
          "output_type": "stream",
          "name": "stdout",
          "text": [
            "(23002, 118)\n",
            "(22501, 118)\n"
          ]
        }
      ]
    },
    {
      "cell_type": "markdown",
      "metadata": {
        "id": "fs0UavZoElaW"
      },
      "source": [
        "Scaling all columns excpet the hot encoded ones using MinMaxScaling."
      ]
    },
    {
      "cell_type": "code",
      "metadata": {
        "id": "gl2IZnafNdfb"
      },
      "source": [
        "# make a copy of dataframe\n",
        "scaled_features = X_train.copy()\n",
        "\n",
        "cols = ['duration', 'src_bytes',\n",
        "       'dst_bytes', 'land', 'wrong_fragment', 'urgent', 'hot',\n",
        "       'num_failed_logins', 'logged_in', 'num_compromised', 'root_shell',\n",
        "       'su_attempted', 'num_root', 'num_file_creations', 'num_shells',\n",
        "       'num_access_files', 'is_guest_login', 'count', 'srv_count',\n",
        "       'serror_rate', 'srv_serror_rate', 'rerror_rate', 'srv_rerror_rate',\n",
        "       'same_srv_rate', 'diff_srv_rate', 'srv_diff_host_rate',\n",
        "       'dst_host_count', 'dst_host_srv_count', 'dst_host_same_srv_rate',\n",
        "       'dst_host_diff_srv_rate', 'dst_host_same_src_port_rate',\n",
        "       'dst_host_srv_diff_host_rate', 'dst_host_serror_rate',\n",
        "       'dst_host_srv_serror_rate', 'dst_host_rerror_rate',\n",
        "       'dst_host_srv_rerror_rate']\n",
        "       \n",
        "features = scaled_features[cols]\n",
        "\n",
        "# Use scaler of choice; here Standard scaler is used\n",
        "scaler = MinMaxScaler().fit(features.values)\n",
        "features = scaler.transform(features.values)\n",
        "\n",
        "scaled_features[cols] = features"
      ],
      "execution_count": null,
      "outputs": []
    },
    {
      "cell_type": "code",
      "metadata": {
        "id": "PO8MnBRobuu1"
      },
      "source": [
        "scaled_test = X_test.copy()\n",
        "       \n",
        "features = scaled_test[cols]\n",
        "\n",
        "features = scaler.transform(features.values)\n",
        "\n",
        "scaled_test[cols] = features"
      ],
      "execution_count": null,
      "outputs": []
    },
    {
      "cell_type": "markdown",
      "metadata": {
        "id": "F1PnE-gG8rsA"
      },
      "source": [
        "## Sparse Autoencoder"
      ]
    },
    {
      "cell_type": "markdown",
      "metadata": {
        "id": "UeSNteV7IIjn"
      },
      "source": [
        "Feature Extraction using Autoencoder. <br>\n",
        "Source Code:\n",
        "https://debuggercafe.com/implementing-deep-autoencoder-in-pytorch/"
      ]
    },
    {
      "cell_type": "code",
      "metadata": {
        "id": "N3M2WoFQqQCj"
      },
      "source": [
        "import torch\n",
        "import torch.nn as nn\n",
        "import matplotlib\n",
        "import matplotlib.pyplot as plt\n",
        "import torch.nn.functional as F\n",
        "import torch.optim as optim\n",
        "import time\n",
        "import numpy as np\n",
        "import argparse\n",
        "from tqdm import tqdm\n",
        "from torch.utils.data import Dataset\n",
        "from torch.utils.data import DataLoader\n",
        "matplotlib.style.use('ggplot')"
      ],
      "execution_count": null,
      "outputs": []
    },
    {
      "cell_type": "code",
      "metadata": {
        "id": "dm0F-R9yqvwx"
      },
      "source": [
        "epochs = 10\n",
        "reg_param = 0.001\n",
        "add_sparsity = 'yes'\n",
        "learning_rate = 1e-3\n",
        "batch_size = 64"
      ],
      "execution_count": null,
      "outputs": []
    },
    {
      "cell_type": "markdown",
      "metadata": {
        "id": "pz5Ou3OsC6Gx"
      },
      "source": [
        "Reproducibility from Pytorch documentation:\n",
        "https://pytorch.org/docs/stable/notes/randomness.html"
      ]
    },
    {
      "cell_type": "code",
      "metadata": {
        "id": "RCFPf_NXaX0m"
      },
      "source": [
        "def seed_worker(worker_id):\n",
        "  worker_seed = torch.initial_seed() % 2**32\n",
        "  numpy.random.seed(worker_seed)\n",
        "  random.seed(worker_seed)"
      ],
      "execution_count": null,
      "outputs": []
    },
    {
      "cell_type": "code",
      "metadata": {
        "colab": {
          "base_uri": "https://localhost:8080/"
        },
        "id": "d1RLJUDEacGP",
        "outputId": "b489e93f-f867-446c-edbb-c9b5158f5a87"
      },
      "source": [
        "g = torch.Generator()\n",
        "g.manual_seed(0)"
      ],
      "execution_count": null,
      "outputs": [
        {
          "output_type": "execute_result",
          "data": {
            "text/plain": [
              "<torch._C.Generator at 0x7f1073896df0>"
            ]
          },
          "metadata": {},
          "execution_count": 149
        }
      ]
    },
    {
      "cell_type": "code",
      "metadata": {
        "id": "nGf9eAr6q1yH"
      },
      "source": [
        "def get_device():\n",
        "    if torch.cuda.is_available():\n",
        "        device = 'cuda:0'\n",
        "    else:\n",
        "        device = 'cpu'\n",
        "    return device\n",
        "device = get_device()"
      ],
      "execution_count": null,
      "outputs": []
    },
    {
      "cell_type": "code",
      "metadata": {
        "id": "lbIqW-2iq7X7"
      },
      "source": [
        "class NSLDataset(Dataset):\n",
        "  def __init__(self, data_frame):\n",
        "      self.NSL_frame = data_frame\n",
        "  def __len__(self):\n",
        "    return len(self.NSL_frame)\n",
        "  def __getitem__(self, idx):\n",
        "    NSL = self.NSL_frame[idx,:].astype('float64')\n",
        "    return torch.from_numpy(NSL)"
      ],
      "execution_count": null,
      "outputs": []
    },
    {
      "cell_type": "code",
      "metadata": {
        "id": "NE2FDXb1tl_8"
      },
      "source": [
        "X_train = np.array(scaled_features)\n",
        "X_test = np.array(scaled_test)"
      ],
      "execution_count": null,
      "outputs": []
    },
    {
      "cell_type": "code",
      "metadata": {
        "id": "WkkJ8Rqaq_ly"
      },
      "source": [
        "NSL_train = NSLDataset(X_train)\n",
        "trainloader = DataLoader(NSL_train, batch_size=batch_size, worker_init_fn=seed_worker, generator=g)\n",
        "\n",
        "NSL_test = NSLDataset(X_test)\n",
        "testloader = DataLoader(NSL_test, batch_size=batch_size, worker_init_fn=seed_worker, generator=g)"
      ],
      "execution_count": null,
      "outputs": []
    },
    {
      "cell_type": "code",
      "metadata": {
        "id": "_pfi2_QXrauQ"
      },
      "source": [
        "class SparseAutoencoder(nn.Module):\n",
        "    def __init__(self):\n",
        "        super(SparseAutoencoder, self).__init__()\n",
        "        # encoder\n",
        "        self.encoder = nn.Sequential(\n",
        "        nn.Linear(in_features=118, out_features=64),\n",
        "        nn.Linear(in_features=64, out_features=32),\n",
        "        nn.Linear(in_features=32, out_features=16))\n",
        " \n",
        "        # decoder \n",
        "        self.decoder = nn.Sequential(\n",
        "        nn.Linear(in_features=16, out_features=32),\n",
        "        nn.Linear(in_features=32, out_features=64),\n",
        "        nn.Linear(in_features=64, out_features=118))\n",
        " \n",
        "    def forward(self, x):\n",
        "        # encoding\n",
        "        x = self.encoder(x)\n",
        "        # decoding\n",
        "        x = self.decoder(x)\n",
        "        return x\n",
        "model = SparseAutoencoder().to(device)"
      ],
      "execution_count": null,
      "outputs": []
    },
    {
      "cell_type": "code",
      "metadata": {
        "id": "xIY8tzQTrtTA"
      },
      "source": [
        "criterion = nn.MSELoss()\n",
        "optimizer = optim.RMSprop(model.parameters(), lr=learning_rate)"
      ],
      "execution_count": null,
      "outputs": []
    },
    {
      "cell_type": "code",
      "metadata": {
        "id": "13dvIx7PsAzf"
      },
      "source": [
        "model_children = list(model.children())"
      ],
      "execution_count": null,
      "outputs": []
    },
    {
      "cell_type": "code",
      "metadata": {
        "id": "GTQk263lsC5W"
      },
      "source": [
        "# define the sparse loss function\n",
        "def sparse_loss(autoencoder, data):\n",
        "    loss = 0\n",
        "    values = data\n",
        "    for i in range(len(model_children)):\n",
        "        values = F.relu((model_children[i](values)))\n",
        "        loss += torch.mean(torch.abs(values))\n",
        "    return loss"
      ],
      "execution_count": null,
      "outputs": []
    },
    {
      "cell_type": "code",
      "metadata": {
        "id": "gW-fBLlfsJaQ"
      },
      "source": [
        "def fit(model, dataloader, epoch):\n",
        "    print('Training')\n",
        "    model.train()\n",
        "    running_loss = 0.0\n",
        "    counter = 0\n",
        "    for i, data in tqdm(enumerate(dataloader), total=int(len(X_train)/dataloader.batch_size)):\n",
        "        counter += 1\n",
        "        feature = data.float()\n",
        "        feature = feature.to(device)\n",
        "        optimizer.zero_grad()\n",
        "        outputs = model(feature)\n",
        "        mse_loss = criterion(outputs, feature)\n",
        "        if add_sparsity == 'yes':\n",
        "            l1_loss = sparse_loss(model, feature)\n",
        "            # add the sparsity penalty\n",
        "            loss = mse_loss + reg_param * l1_loss\n",
        "        else:\n",
        "            loss = mse_loss\n",
        "        loss.backward()\n",
        "        optimizer.step()\n",
        "        running_loss += loss.item()\n",
        "    \n",
        "    epoch_loss = running_loss / counter\n",
        "    print(f\"Train Loss: {loss:.3f}\")\n",
        "    return epoch_loss"
      ],
      "execution_count": null,
      "outputs": []
    },
    {
      "cell_type": "code",
      "metadata": {
        "id": "MUvlMEGDsFt-"
      },
      "source": [
        "def validate(model, dataloader, epoch):\n",
        "    print('Validating')\n",
        "    model.eval()\n",
        "    running_loss = 0.0\n",
        "    counter = 0\n",
        "    with torch.no_grad():\n",
        "        for i, data in tqdm(enumerate(dataloader), total=int(len(X_test)/dataloader.batch_size)):\n",
        "            counter += 1\n",
        "            feature = data.float()\n",
        "            feature = feature.to(device)\n",
        "            outputs = model(feature)\n",
        "            loss = criterion(outputs, feature)\n",
        "            running_loss += loss.item()\n",
        "    epoch_loss = running_loss / counter\n",
        "    print(f\"Val Loss: {loss:.3f}\")  \n",
        "    return epoch_loss"
      ],
      "execution_count": null,
      "outputs": []
    },
    {
      "cell_type": "code",
      "metadata": {
        "colab": {
          "base_uri": "https://localhost:8080/"
        },
        "id": "ZZCWPXeLsQhm",
        "outputId": "77204c3c-f6f5-4b4e-ab26-44d04bc9ba46"
      },
      "source": [
        "# train and validate the autoencoder neural network\n",
        "train_loss = []\n",
        "val_loss = []\n",
        "start = time.time()\n",
        "PATH = 'encoder_weights.pth'\n",
        "for epoch in range(epochs):\n",
        "    print(f\"Epoch {epoch+1} of {epochs}\")\n",
        "    train_epoch_loss = fit(model, trainloader, epoch)\n",
        "    val_epoch_loss = validate(model, testloader, epoch)\n",
        "    train_loss.append(train_epoch_loss)\n",
        "    val_loss.append(val_epoch_loss)\n",
        "    if(epoch == epochs - 1):\n",
        "      torch.save({\n",
        "            'epoch': epoch,\n",
        "            'model_state_dict': model.state_dict(),\n",
        "            'optimizer_state_dict': optimizer.state_dict(),\n",
        "            'loss': val_loss\n",
        "            }, PATH)\n",
        "end = time.time()\n",
        " \n",
        "print(f\"{(end-start)/60:.3} minutes\")"
      ],
      "execution_count": null,
      "outputs": [
        {
          "output_type": "stream",
          "name": "stdout",
          "text": [
            "Epoch 1 of 10\n",
            "Training\n"
          ]
        },
        {
          "output_type": "stream",
          "name": "stderr",
          "text": [
            "360it [00:00, 437.38it/s]                         \n"
          ]
        },
        {
          "output_type": "stream",
          "name": "stdout",
          "text": [
            "Train Loss: 0.033\n",
            "Validating\n"
          ]
        },
        {
          "output_type": "stream",
          "name": "stderr",
          "text": [
            "352it [00:00, 1550.66it/s]                         \n"
          ]
        },
        {
          "output_type": "stream",
          "name": "stdout",
          "text": [
            "Val Loss: 0.034\n",
            "Epoch 2 of 10\n",
            "Training\n"
          ]
        },
        {
          "output_type": "stream",
          "name": "stderr",
          "text": [
            "360it [00:00, 445.23it/s]                         \n"
          ]
        },
        {
          "output_type": "stream",
          "name": "stdout",
          "text": [
            "Train Loss: 0.029\n",
            "Validating\n"
          ]
        },
        {
          "output_type": "stream",
          "name": "stderr",
          "text": [
            "352it [00:00, 1543.99it/s]                         \n"
          ]
        },
        {
          "output_type": "stream",
          "name": "stdout",
          "text": [
            "Val Loss: 0.025\n",
            "Epoch 3 of 10\n",
            "Training\n"
          ]
        },
        {
          "output_type": "stream",
          "name": "stderr",
          "text": [
            "360it [00:00, 445.19it/s]                         \n"
          ]
        },
        {
          "output_type": "stream",
          "name": "stdout",
          "text": [
            "Train Loss: 0.023\n",
            "Validating\n"
          ]
        },
        {
          "output_type": "stream",
          "name": "stderr",
          "text": [
            "352it [00:00, 1541.46it/s]                         \n"
          ]
        },
        {
          "output_type": "stream",
          "name": "stdout",
          "text": [
            "Val Loss: 0.021\n",
            "Epoch 4 of 10\n",
            "Training\n"
          ]
        },
        {
          "output_type": "stream",
          "name": "stderr",
          "text": [
            "360it [00:00, 455.91it/s]                         \n"
          ]
        },
        {
          "output_type": "stream",
          "name": "stdout",
          "text": [
            "Train Loss: 0.015\n",
            "Validating\n"
          ]
        },
        {
          "output_type": "stream",
          "name": "stderr",
          "text": [
            "352it [00:00, 1683.08it/s]                         \n"
          ]
        },
        {
          "output_type": "stream",
          "name": "stdout",
          "text": [
            "Val Loss: 0.015\n",
            "Epoch 5 of 10\n",
            "Training\n"
          ]
        },
        {
          "output_type": "stream",
          "name": "stderr",
          "text": [
            "360it [00:00, 440.95it/s]                         \n"
          ]
        },
        {
          "output_type": "stream",
          "name": "stdout",
          "text": [
            "Train Loss: 0.019\n",
            "Validating\n"
          ]
        },
        {
          "output_type": "stream",
          "name": "stderr",
          "text": [
            "352it [00:00, 1563.88it/s]\n"
          ]
        },
        {
          "output_type": "stream",
          "name": "stdout",
          "text": [
            "Val Loss: 0.017\n",
            "Epoch 6 of 10\n",
            "Training\n"
          ]
        },
        {
          "output_type": "stream",
          "name": "stderr",
          "text": [
            "360it [00:00, 446.01it/s]                         \n"
          ]
        },
        {
          "output_type": "stream",
          "name": "stdout",
          "text": [
            "Train Loss: 0.018\n",
            "Validating\n"
          ]
        },
        {
          "output_type": "stream",
          "name": "stderr",
          "text": [
            "352it [00:00, 1571.17it/s]                         \n"
          ]
        },
        {
          "output_type": "stream",
          "name": "stdout",
          "text": [
            "Val Loss: 0.016\n",
            "Epoch 7 of 10\n",
            "Training\n"
          ]
        },
        {
          "output_type": "stream",
          "name": "stderr",
          "text": [
            "360it [00:00, 448.22it/s]                         \n"
          ]
        },
        {
          "output_type": "stream",
          "name": "stdout",
          "text": [
            "Train Loss: 0.012\n",
            "Validating\n"
          ]
        },
        {
          "output_type": "stream",
          "name": "stderr",
          "text": [
            "352it [00:00, 1540.12it/s]                         \n"
          ]
        },
        {
          "output_type": "stream",
          "name": "stdout",
          "text": [
            "Val Loss: 0.013\n",
            "Epoch 8 of 10\n",
            "Training\n"
          ]
        },
        {
          "output_type": "stream",
          "name": "stderr",
          "text": [
            "360it [00:00, 452.31it/s]                         \n"
          ]
        },
        {
          "output_type": "stream",
          "name": "stdout",
          "text": [
            "Train Loss: 0.018\n",
            "Validating\n"
          ]
        },
        {
          "output_type": "stream",
          "name": "stderr",
          "text": [
            "352it [00:00, 1660.91it/s]                         \n"
          ]
        },
        {
          "output_type": "stream",
          "name": "stdout",
          "text": [
            "Val Loss: 0.015\n",
            "Epoch 9 of 10\n",
            "Training\n"
          ]
        },
        {
          "output_type": "stream",
          "name": "stderr",
          "text": [
            "360it [00:00, 463.19it/s]                         \n"
          ]
        },
        {
          "output_type": "stream",
          "name": "stdout",
          "text": [
            "Train Loss: 0.018\n",
            "Validating\n"
          ]
        },
        {
          "output_type": "stream",
          "name": "stderr",
          "text": [
            "352it [00:00, 1680.52it/s]                         \n"
          ]
        },
        {
          "output_type": "stream",
          "name": "stdout",
          "text": [
            "Val Loss: 0.016\n",
            "Epoch 10 of 10\n",
            "Training\n"
          ]
        },
        {
          "output_type": "stream",
          "name": "stderr",
          "text": [
            "360it [00:00, 460.56it/s]                         \n"
          ]
        },
        {
          "output_type": "stream",
          "name": "stdout",
          "text": [
            "Train Loss: 0.010\n",
            "Validating\n"
          ]
        },
        {
          "output_type": "stream",
          "name": "stderr",
          "text": [
            "352it [00:00, 1508.78it/s]                         "
          ]
        },
        {
          "output_type": "stream",
          "name": "stdout",
          "text": [
            "Val Loss: 0.010\n",
            "0.174 minutes\n"
          ]
        },
        {
          "output_type": "stream",
          "name": "stderr",
          "text": [
            "\n"
          ]
        }
      ]
    },
    {
      "cell_type": "code",
      "metadata": {
        "colab": {
          "base_uri": "https://localhost:8080/",
          "height": 283
        },
        "id": "SAkl9k36P2pZ",
        "outputId": "2a4e80aa-3b62-4bd7-d67e-c316b79e1a8e"
      },
      "source": [
        "plt.plot(val_loss)\n",
        "plt.plot(train_loss)"
      ],
      "execution_count": null,
      "outputs": [
        {
          "output_type": "execute_result",
          "data": {
            "text/plain": [
              "[<matplotlib.lines.Line2D at 0x7f1075e33210>]"
            ]
          },
          "metadata": {},
          "execution_count": 161
        },
        {
          "output_type": "display_data",
          "data": {
            "image/png": "[encoded data removed]",
            "text/plain": [
              "<Figure size 432x288 with 1 Axes>"
            ]
          },
          "metadata": {}
        }
      ]
    },
    {
      "cell_type": "code",
      "metadata": {
        "id": "Phyh6wQWedhR"
      },
      "source": [
        "model = SparseAutoencoder().to(device)\n",
        "optimizer = optim.RMSprop(model.parameters(), lr=learning_rate)\n",
        "\n",
        "ckpt = torch.load('encoder_weights.pth')\n",
        "model.load_state_dict(ckpt['model_state_dict'])\n",
        "optimizer.load_state_dict(ckpt['optimizer_state_dict'])"
      ],
      "execution_count": null,
      "outputs": []
    },
    {
      "cell_type": "code",
      "metadata": {
        "colab": {
          "base_uri": "https://localhost:8080/"
        },
        "id": "68r24t60sUPQ",
        "outputId": "8cd448a7-24fe-4017-aa52-34d2ea16d351"
      },
      "source": [
        "encoded_train = []\n",
        "model.eval()\n",
        "for i, data in tqdm(enumerate(trainloader), total=int(len(X_train)/trainloader.batch_size)):\n",
        "  feature = data.float()\n",
        "  feature = feature.to(device)\n",
        "  encoded_train.extend(model.encoder(feature).detach().numpy())\n",
        "encoded_train = np.array(encoded_train)"
      ],
      "execution_count": null,
      "outputs": [
        {
          "output_type": "stream",
          "name": "stderr",
          "text": [
            "360it [00:00, 2007.10it/s]                         \n"
          ]
        }
      ]
    },
    {
      "cell_type": "code",
      "metadata": {
        "colab": {
          "base_uri": "https://localhost:8080/"
        },
        "id": "S6l-LzIZsWKb",
        "outputId": "f7b7481c-e652-415f-9ebc-3034f49f0229"
      },
      "source": [
        "encoded_test = []\n",
        "model.eval()\n",
        "for i, data in tqdm(enumerate(testloader), total=int(len(X_test)/testloader.batch_size)):\n",
        "  feature = data.float()\n",
        "  feature = feature.to(device)\n",
        "  encoded_test.extend(model.encoder(feature).detach().numpy())\n",
        "enocded_test = np.array(encoded_test)"
      ],
      "execution_count": null,
      "outputs": [
        {
          "output_type": "stream",
          "name": "stderr",
          "text": [
            "352it [00:00, 2010.10it/s]                         \n"
          ]
        }
      ]
    },
    {
      "cell_type": "code",
      "metadata": {
        "id": "Jdqv3Y8MmvwP"
      },
      "source": [
        "encoded_train, encoded_val, y_train, y_val = train_test_split(encoded_train, y_train, random_state = 0, stratify = y_train)"
      ],
      "execution_count": null,
      "outputs": []
    },
    {
      "cell_type": "markdown",
      "metadata": {
        "id": "bf97aAsX83kx"
      },
      "source": [
        "## Random Forest\n",
        "Encoded features and Radom forest yielded (score= 0.89)."
      ]
    },
    {
      "cell_type": "code",
      "metadata": {
        "id": "oF4qG587e8xt"
      },
      "source": [
        "from sklearn.ensemble import RandomForestClassifier"
      ],
      "execution_count": null,
      "outputs": []
    },
    {
      "cell_type": "code",
      "metadata": {
        "id": "RZISnNbzwsp8"
      },
      "source": [
        "RF_tuned = RandomForestClassifier(n_estimators=200, max_depth=5, min_samples_split=0.0006, \n",
        "                                  min_samples_leaf=3, bootstrap = True, oob_score = True, warm_start=True)"
      ],
      "execution_count": null,
      "outputs": []
    },
    {
      "cell_type": "code",
      "metadata": {
        "colab": {
          "base_uri": "https://localhost:8080/"
        },
        "id": "QtLAB1cBybkU",
        "outputId": "1b043d06-8537-4b0b-a1d4-20b22b4a8c3c"
      },
      "source": [
        "RF_tuned.fit(encoded_train, y_train)"
      ],
      "execution_count": null,
      "outputs": [
        {
          "output_type": "execute_result",
          "data": {
            "text/plain": [
              "RandomForestClassifier(bootstrap=True, ccp_alpha=0.0, class_weight=None,\n",
              "                       criterion='gini', max_depth=5, max_features='auto',\n",
              "                       max_leaf_nodes=None, max_samples=None,\n",
              "                       min_impurity_decrease=0.0, min_impurity_split=None,\n",
              "                       min_samples_leaf=3, min_samples_split=0.0006,\n",
              "                       min_weight_fraction_leaf=0.0, n_estimators=200,\n",
              "                       n_jobs=None, oob_score=True, random_state=None,\n",
              "                       verbose=0, warm_start=True)"
            ]
          },
          "metadata": {},
          "execution_count": 168
        }
      ]
    },
    {
      "cell_type": "code",
      "metadata": {
        "id": "Q41QPsurLMJ3"
      },
      "source": [
        "pred_RF_tr = RF_tuned.predict(encoded_train)"
      ],
      "execution_count": null,
      "outputs": []
    },
    {
      "cell_type": "code",
      "metadata": {
        "id": "3o5NDQceXxD9"
      },
      "source": [
        "pred_RF_val = RF_tuned.predict(encoded_val)"
      ],
      "execution_count": null,
      "outputs": []
    },
    {
      "cell_type": "code",
      "metadata": {
        "colab": {
          "base_uri": "https://localhost:8080/"
        },
        "id": "qNBKsRCWemcM",
        "outputId": "ebc84e58-6cfc-4b4f-eac9-a40bfa82df20"
      },
      "source": [
        "print(classification_report(y_val, pred_RF_val))"
      ],
      "execution_count": null,
      "outputs": [
        {
          "output_type": "stream",
          "name": "stdout",
          "text": [
            "              precision    recall  f1-score   support\n",
            "\n",
            "           0       1.00      0.99      0.99      3001\n",
            "           1       0.99      1.00      0.99      2750\n",
            "\n",
            "    accuracy                           0.99      5751\n",
            "   macro avg       0.99      0.99      0.99      5751\n",
            "weighted avg       0.99      0.99      0.99      5751\n",
            "\n"
          ]
        }
      ]
    },
    {
      "cell_type": "code",
      "metadata": {
        "id": "NT1QZV14hJBc"
      },
      "source": [
        "pred_RF = RF_tuned.predict(encoded_test)"
      ],
      "execution_count": null,
      "outputs": []
    },
    {
      "cell_type": "markdown",
      "metadata": {
        "id": "4Dkbedu289zG"
      },
      "source": [
        "## XGBoost\n",
        "Encoded features and XGboost yielded (score= 0.92)."
      ]
    },
    {
      "cell_type": "code",
      "metadata": {
        "colab": {
          "base_uri": "https://localhost:8080/"
        },
        "id": "fSDOB5c7isY8",
        "outputId": "c7e52a0f-775f-42ff-a37d-a42366e59405"
      },
      "source": [
        "! pip install --upgrade xgboost"
      ],
      "execution_count": null,
      "outputs": [
        {
          "output_type": "stream",
          "name": "stdout",
          "text": [
            "Requirement already satisfied: xgboost in /usr/local/lib/python3.7/dist-packages (1.5.0)\n",
            "Requirement already satisfied: scipy in /usr/local/lib/python3.7/dist-packages (from xgboost) (1.4.1)\n",
            "Requirement already satisfied: numpy in /usr/local/lib/python3.7/dist-packages (from xgboost) (1.19.5)\n"
          ]
        }
      ]
    },
    {
      "cell_type": "code",
      "metadata": {
        "id": "fHh2DE3piwNi"
      },
      "source": [
        "from xgboost import XGBClassifier"
      ],
      "execution_count": null,
      "outputs": []
    },
    {
      "cell_type": "code",
      "metadata": {
        "colab": {
          "base_uri": "https://localhost:8080/"
        },
        "id": "7qKzPIsAi1l3",
        "outputId": "5cda24e4-51f5-458a-89a9-7236a58f3354"
      },
      "source": [
        "xgb = XGBClassifier(use_label_encoder=False, eval_metric = 'auc', learning_rate = 0.005, n_estimators = 300)\n",
        "xgb.fit(encoded_train, y_train)"
      ],
      "execution_count": null,
      "outputs": [
        {
          "output_type": "execute_result",
          "data": {
            "text/plain": [
              "XGBClassifier(base_score=0.5, booster='gbtree', colsample_bylevel=1,\n",
              "              colsample_bynode=1, colsample_bytree=1, enable_categorical=False,\n",
              "              eval_metric='auc', gamma=0, gpu_id=-1, importance_type=None,\n",
              "              interaction_constraints='', learning_rate=0.005, max_delta_step=0,\n",
              "              max_depth=6, min_child_weight=1, missing=nan,\n",
              "              monotone_constraints='()', n_estimators=300, n_jobs=2,\n",
              "              num_parallel_tree=1, objective='binary:logistic',\n",
              "              predictor='auto', random_state=0, reg_alpha=0, reg_lambda=1,\n",
              "              scale_pos_weight=1, subsample=1, tree_method='exact',\n",
              "              use_label_encoder=False, validate_parameters=1, ...)"
            ]
          },
          "metadata": {},
          "execution_count": 176
        }
      ]
    },
    {
      "cell_type": "code",
      "metadata": {
        "id": "cDCiSjzUcYtb"
      },
      "source": [
        "pred_xgb_tr = xgb.predict(encoded_train)"
      ],
      "execution_count": null,
      "outputs": []
    },
    {
      "cell_type": "code",
      "metadata": {
        "id": "cQtN5SojX4qK"
      },
      "source": [
        "pred_xgb_val = xgb.predict(encoded_val)"
      ],
      "execution_count": null,
      "outputs": []
    },
    {
      "cell_type": "code",
      "metadata": {
        "colab": {
          "base_uri": "https://localhost:8080/"
        },
        "id": "WuouLqNSewA0",
        "outputId": "40cfb98d-fe3d-4e27-fef5-42a47cf86d64"
      },
      "source": [
        "print(classification_report(y_val, pred_xgb_val))"
      ],
      "execution_count": null,
      "outputs": [
        {
          "output_type": "stream",
          "name": "stdout",
          "text": [
            "              precision    recall  f1-score   support\n",
            "\n",
            "           0       1.00      0.99      0.99      3001\n",
            "           1       0.99      1.00      0.99      2750\n",
            "\n",
            "    accuracy                           0.99      5751\n",
            "   macro avg       0.99      0.99      0.99      5751\n",
            "weighted avg       0.99      0.99      0.99      5751\n",
            "\n"
          ]
        }
      ]
    },
    {
      "cell_type": "code",
      "metadata": {
        "id": "s-2N50hwhUtu"
      },
      "source": [
        "pred_xgb = xgb.predict(encoded_test)"
      ],
      "execution_count": null,
      "outputs": []
    },
    {
      "cell_type": "markdown",
      "metadata": {
        "id": "YO0pqWFDhcNu"
      },
      "source": [
        "# Stacking"
      ]
    },
    {
      "cell_type": "markdown",
      "metadata": {
        "id": "-9mpfpCYhhS1"
      },
      "source": [
        "I took the prediction of the random forest and xgboost and passed them to multilayer perceptron along with the original input and target.<br>\n",
        "This approach yielded (score= 0.91)."
      ]
    },
    {
      "cell_type": "code",
      "metadata": {
        "id": "72Nxi-s72Ejd"
      },
      "source": [
        "class Classifier(nn.Module):\n",
        "    def __init__(self):\n",
        "        super(Classifier, self).__init__()\n",
        "        self.fc1 = nn.Linear(18, 8)\n",
        "        self.fc2 = nn.Linear(8, 4)\n",
        "        self.fc3 = nn.Linear(4, 2)\n",
        " \n",
        "    def forward(self, x):\n",
        "        x = F.relu(self.fc1(x))\n",
        "        x = F.relu(self.fc2(x))\n",
        "        x = torch.tanh(self.fc3(x))\n",
        "        return x\n",
        "clf = Classifier().to(device)"
      ],
      "execution_count": null,
      "outputs": []
    },
    {
      "cell_type": "code",
      "metadata": {
        "id": "sAEAlIf_890S"
      },
      "source": [
        "cross_entropy_criterion = nn.CrossEntropyLoss()\n",
        "optimizer_adagrad = optim.Adagrad(clf.parameters(), lr=0.008)"
      ],
      "execution_count": null,
      "outputs": []
    },
    {
      "cell_type": "code",
      "metadata": {
        "id": "Wvwkehoz8Y7f"
      },
      "source": [
        "class FullNSLDataset(Dataset):\n",
        "  def __init__(self, data, labels):\n",
        "      self.X = data\n",
        "      self.y = labels\n",
        "  def __len__(self):\n",
        "    return len(self.X)\n",
        "  def __getitem__(self, idx):\n",
        "    X = self.X[idx,:].astype('float64')\n",
        "    y = self.y[idx].astype('float64')\n",
        "    sample = {'X': torch.from_numpy(X), 'y': torch.tensor(y).type(torch.long)}\n",
        "    return sample"
      ],
      "execution_count": null,
      "outputs": []
    },
    {
      "cell_type": "code",
      "metadata": {
        "id": "NIFkay7Pbzk_"
      },
      "source": [
        "stack_train = pd.DataFrame(data = encoded_train)\n",
        "stack_train['random_forest'] = pred_RF_tr\n",
        "stack_train['xgboost'] = pred_xgb_tr\n",
        "stack_train = np.array(stack_train)\n",
        "y_train = np.array(y_train)"
      ],
      "execution_count": null,
      "outputs": []
    },
    {
      "cell_type": "code",
      "metadata": {
        "id": "vCfFE4ouPny1"
      },
      "source": [
        "stack_val = pd.DataFrame(data= encoded_val)\n",
        "stack_val['random_forest '] = pred_RF_val\n",
        "stack_val['xgboost'] = pred_xgb_val\n",
        "stack_val = np.array(stack_val)\n",
        "y_val = np.array(y_val)"
      ],
      "execution_count": null,
      "outputs": []
    },
    {
      "cell_type": "code",
      "metadata": {
        "id": "qeumAcSl6lYg"
      },
      "source": [
        "stack_test = pd.DataFrame(data = encoded_test)\n",
        "stack_test['random_forest'] = pred_RF\n",
        "stack_test['xgboost'] = pred_xgb\n",
        "stack_test = np.array(stack_test)"
      ],
      "execution_count": null,
      "outputs": []
    },
    {
      "cell_type": "code",
      "metadata": {
        "id": "kNCpUYXsDMoO"
      },
      "source": [
        "clf_trainset = FullNSLDataset(stack_train, y_train)\n",
        "clf_loader = DataLoader(clf_trainset, batch_size = 10)\n",
        "clf_valset = FullNSLDataset(stack_val, y_val)\n",
        "clf_valloader = DataLoader(clf_valset, batch_size=10)\n",
        "clf_testset = NSLDataset(stack_test)\n",
        "clf_testloader = DataLoader(clf_testset, batch_size=10)"
      ],
      "execution_count": null,
      "outputs": []
    },
    {
      "cell_type": "code",
      "metadata": {
        "id": "qUTbIzZkGB95"
      },
      "source": [
        "def fit_clf(model, dataloader, epoch):\n",
        "    print('Training')\n",
        "    running_loss = 0.0\n",
        "    counter = 0\n",
        "    for i, Sample in tqdm(enumerate(dataloader), total=int(len(stack_train)/dataloader.batch_size)):\n",
        "        counter += 1\n",
        "        X = Sample['X'].float()\n",
        "        X = X.to(device)\n",
        "        y = Sample['y']\n",
        "        y = y.to(device)\n",
        "        optimizer_adagrad.zero_grad()\n",
        "        output = model(X)\n",
        "        cross_entropy_loss = cross_entropy_criterion(output, y)\n",
        "        cross_entropy_loss.backward()\n",
        "        optimizer_adagrad.step()\n",
        "        running_loss += cross_entropy_loss.item()\n",
        "    epoch_loss = running_loss / counter\n",
        "    print(f\"Train Loss: {cross_entropy_loss}\")\n",
        "    return epoch_loss"
      ],
      "execution_count": null,
      "outputs": []
    },
    {
      "cell_type": "code",
      "metadata": {
        "id": "zY47KrWmSp9H"
      },
      "source": [
        "def validate_clf(model, dataloader, epoch):\n",
        "    print('Validating')\n",
        "    model.eval()\n",
        "    running_loss = 0.0\n",
        "    counter = 0\n",
        "    with torch.no_grad():\n",
        "        for i, Sample in tqdm(enumerate(dataloader), total=int(len(stack_val)/dataloader.batch_size)):\n",
        "            counter += 1\n",
        "            X = Sample['X'].float()\n",
        "            X = X.to(device)\n",
        "            y = Sample['y']\n",
        "            y = y.to(device)\n",
        "            outputs = model(X)\n",
        "            cross_entropy_loss = cross_entropy_criterion(outputs, y)\n",
        "            running_loss += cross_entropy_loss.item()\n",
        "    epoch_loss = running_loss / counter\n",
        "    print(f\"Val Loss: {cross_entropy_loss:.3f}\")  \n",
        "    return epoch_loss"
      ],
      "execution_count": null,
      "outputs": []
    },
    {
      "cell_type": "code",
      "metadata": {
        "colab": {
          "base_uri": "https://localhost:8080/"
        },
        "id": "V9KlBYayHMiJ",
        "outputId": "2d4b6a60-8bac-4e69-89bc-ccddedf876cb"
      },
      "source": [
        "# train and validate the autoencoder neural network\n",
        "train_loss = []\n",
        "val_loss = []\n",
        "start = time.time()\n",
        "clf.train()\n",
        "for epoch in range(epochs):\n",
        "    print(f\"Epoch {epoch+1} of {epochs}\")\n",
        "    train_epoch_loss = fit_clf(clf, clf_loader, epoch)\n",
        "    val_epoch_loss = validate_clf(clf, clf_valloader, epoch)\n",
        "    train_loss.append(train_epoch_loss)\n",
        "    val_loss.append(val_epoch_loss)\n",
        "\n",
        "end = time.time()\n",
        " \n",
        "print(f\"{(end-start)/60:.3} minutes\")"
      ],
      "execution_count": null,
      "outputs": [
        {
          "output_type": "stream",
          "name": "stdout",
          "text": [
            "Epoch 1 of 10\n",
            "Training\n"
          ]
        },
        {
          "output_type": "stream",
          "name": "stderr",
          "text": [
            "1726it [00:01, 1147.52it/s]                          \n"
          ]
        },
        {
          "output_type": "stream",
          "name": "stdout",
          "text": [
            "Train Loss: 0.32185161113739014\n",
            "Validating\n"
          ]
        },
        {
          "output_type": "stream",
          "name": "stderr",
          "text": [
            "576it [00:00, 2593.68it/s]                         \n"
          ]
        },
        {
          "output_type": "stream",
          "name": "stdout",
          "text": [
            "Val Loss: 0.322\n",
            "Epoch 2 of 10\n",
            "Training\n"
          ]
        },
        {
          "output_type": "stream",
          "name": "stderr",
          "text": [
            "1726it [00:01, 1144.38it/s]                          \n"
          ]
        },
        {
          "output_type": "stream",
          "name": "stdout",
          "text": [
            "Train Loss: 0.2607528567314148\n",
            "Validating\n"
          ]
        },
        {
          "output_type": "stream",
          "name": "stderr",
          "text": [
            "576it [00:00, 2459.03it/s]                         \n"
          ]
        },
        {
          "output_type": "stream",
          "name": "stdout",
          "text": [
            "Val Loss: 0.261\n",
            "Epoch 3 of 10\n",
            "Training\n"
          ]
        },
        {
          "output_type": "stream",
          "name": "stderr",
          "text": [
            "1726it [00:01, 1154.79it/s]                          \n"
          ]
        },
        {
          "output_type": "stream",
          "name": "stdout",
          "text": [
            "Train Loss: 0.23102211952209473\n",
            "Validating\n"
          ]
        },
        {
          "output_type": "stream",
          "name": "stderr",
          "text": [
            "576it [00:00, 2627.83it/s]                         \n"
          ]
        },
        {
          "output_type": "stream",
          "name": "stdout",
          "text": [
            "Val Loss: 0.231\n",
            "Epoch 4 of 10\n",
            "Training\n"
          ]
        },
        {
          "output_type": "stream",
          "name": "stderr",
          "text": [
            "1726it [00:01, 1136.59it/s]                          \n"
          ]
        },
        {
          "output_type": "stream",
          "name": "stdout",
          "text": [
            "Train Loss: 0.21293874084949493\n",
            "Validating\n"
          ]
        },
        {
          "output_type": "stream",
          "name": "stderr",
          "text": [
            "576it [00:00, 2712.27it/s]                         \n"
          ]
        },
        {
          "output_type": "stream",
          "name": "stdout",
          "text": [
            "Val Loss: 0.213\n",
            "Epoch 5 of 10\n",
            "Training\n"
          ]
        },
        {
          "output_type": "stream",
          "name": "stderr",
          "text": [
            "1726it [00:01, 1152.65it/s]                          \n"
          ]
        },
        {
          "output_type": "stream",
          "name": "stdout",
          "text": [
            "Train Loss: 0.20062494277954102\n",
            "Validating\n"
          ]
        },
        {
          "output_type": "stream",
          "name": "stderr",
          "text": [
            "576it [00:00, 2594.21it/s]                         \n"
          ]
        },
        {
          "output_type": "stream",
          "name": "stdout",
          "text": [
            "Val Loss: 0.201\n",
            "Epoch 6 of 10\n",
            "Training\n"
          ]
        },
        {
          "output_type": "stream",
          "name": "stderr",
          "text": [
            "1726it [00:01, 1155.61it/s]                          \n"
          ]
        },
        {
          "output_type": "stream",
          "name": "stdout",
          "text": [
            "Train Loss: 0.19163207709789276\n",
            "Validating\n"
          ]
        },
        {
          "output_type": "stream",
          "name": "stderr",
          "text": [
            "576it [00:00, 2656.24it/s]                         \n"
          ]
        },
        {
          "output_type": "stream",
          "name": "stdout",
          "text": [
            "Val Loss: 0.192\n",
            "Epoch 7 of 10\n",
            "Training\n"
          ]
        },
        {
          "output_type": "stream",
          "name": "stderr",
          "text": [
            "1726it [00:01, 1158.95it/s]                          \n"
          ]
        },
        {
          "output_type": "stream",
          "name": "stdout",
          "text": [
            "Train Loss: 0.18474318087100983\n",
            "Validating\n"
          ]
        },
        {
          "output_type": "stream",
          "name": "stderr",
          "text": [
            "576it [00:00, 2485.92it/s]                         \n"
          ]
        },
        {
          "output_type": "stream",
          "name": "stdout",
          "text": [
            "Val Loss: 0.185\n",
            "Epoch 8 of 10\n",
            "Training\n"
          ]
        },
        {
          "output_type": "stream",
          "name": "stderr",
          "text": [
            "1726it [00:01, 1108.76it/s]                          \n"
          ]
        },
        {
          "output_type": "stream",
          "name": "stdout",
          "text": [
            "Train Loss: 0.17927652597427368\n",
            "Validating\n"
          ]
        },
        {
          "output_type": "stream",
          "name": "stderr",
          "text": [
            "576it [00:00, 2700.04it/s]                         \n"
          ]
        },
        {
          "output_type": "stream",
          "name": "stdout",
          "text": [
            "Val Loss: 0.179\n",
            "Epoch 9 of 10\n",
            "Training\n"
          ]
        },
        {
          "output_type": "stream",
          "name": "stderr",
          "text": [
            "1726it [00:01, 1145.75it/s]                          \n"
          ]
        },
        {
          "output_type": "stream",
          "name": "stdout",
          "text": [
            "Train Loss: 0.17482049763202667\n",
            "Validating\n"
          ]
        },
        {
          "output_type": "stream",
          "name": "stderr",
          "text": [
            "576it [00:00, 2598.98it/s]                         \n"
          ]
        },
        {
          "output_type": "stream",
          "name": "stdout",
          "text": [
            "Val Loss: 0.175\n",
            "Epoch 10 of 10\n",
            "Training\n"
          ]
        },
        {
          "output_type": "stream",
          "name": "stderr",
          "text": [
            "1726it [00:01, 1158.62it/s]                          \n"
          ]
        },
        {
          "output_type": "stream",
          "name": "stdout",
          "text": [
            "Train Loss: 0.17111153900623322\n",
            "Validating\n"
          ]
        },
        {
          "output_type": "stream",
          "name": "stderr",
          "text": [
            "576it [00:00, 2667.73it/s]                         "
          ]
        },
        {
          "output_type": "stream",
          "name": "stdout",
          "text": [
            "Val Loss: 0.171\n",
            "0.291 minutes\n"
          ]
        },
        {
          "output_type": "stream",
          "name": "stderr",
          "text": [
            "\n"
          ]
        }
      ]
    },
    {
      "cell_type": "code",
      "metadata": {
        "colab": {
          "base_uri": "https://localhost:8080/",
          "height": 285
        },
        "id": "7qYAU-8AY_KQ",
        "outputId": "b3a107cd-7b43-4cf2-9326-f9faa3e30fee"
      },
      "source": [
        "plt.plot(train_loss)\n",
        "plt.plot(val_loss)"
      ],
      "execution_count": null,
      "outputs": [
        {
          "output_type": "execute_result",
          "data": {
            "text/plain": [
              "[<matplotlib.lines.Line2D at 0x7f10738a7f10>]"
            ]
          },
          "metadata": {},
          "execution_count": 194
        },
        {
          "output_type": "display_data",
          "data": {
            "image/png": "[encoded data removed]",
            "text/plain": [
              "<Figure size 432x288 with 1 Axes>"
            ]
          },
          "metadata": {}
        }
      ]
    },
    {
      "cell_type": "code",
      "metadata": {
        "colab": {
          "base_uri": "https://localhost:8080/"
        },
        "id": "DAIouO65H9ZX",
        "outputId": "9c60abd0-fb70-4699-9f3c-c6b1759e58b0"
      },
      "source": [
        "mlp_pred = []\n",
        "clf.eval()\n",
        "for i, data in tqdm(enumerate(clf_testloader), total=int(len(stack_test)/trainloader.batch_size)):\n",
        "  X = data.float()\n",
        "  X = X.to(device)\n",
        "  mlp_pred.extend(clf(X).detach().numpy())\n",
        "mlp_pred = [np.argmax(p) for p in mlp_pred]"
      ],
      "execution_count": null,
      "outputs": [
        {
          "output_type": "stream",
          "name": "stderr",
          "text": [
            "2251it [00:00, 4706.18it/s]\n"
          ]
        }
      ]
    },
    {
      "cell_type": "markdown",
      "metadata": {
        "id": "3by9CIf5PJ1U"
      },
      "source": [
        "#### Submission\n"
      ]
    },
    {
      "cell_type": "code",
      "metadata": {
        "id": "gogIWwnNOOO1"
      },
      "source": [
        "submission = pd.DataFrame({\"ID\":np.arange(0,len(mlp_pred)), \"Class\":mlp_pred})\n",
        "submission.to_csv(\"kaggle30.csv\", index=False)\n",
        "# !cp kaggle16.csv \"drive/My Drive/\""
      ],
      "execution_count": null,
      "outputs": []
    }
  ]
}